{
 "cells": [
  {
   "cell_type": "markdown",
   "id": "f74b02d2-6bff-413f-884f-fd9659478bf7",
   "metadata": {},
   "source": [
    "## These are fundamental statistical measures used to analyze the distribution of a dataset. Here's a brief explanation of each:\n",
    "\n",
    "1. **Mean (Average)**: The sum of all values divided by the number of values.  \n",
    "   $$\n",
    "   \\text{Mean} = \\frac{\\sum X}{n}\n",
    "   $$\n",
    "\n",
    "2. **Median**: The middle value when the data is arranged in ascending order. If there’s an even number of values, the median is the average of the two middle values.\n",
    "\n",
    "3. **Mode**: The value(s) that appear most frequently in the dataset. A dataset can have no mode, one mode (unimodal), or multiple modes.\n",
    "\n",
    "4. **Minimum (Min)**: The smallest value in the dataset.\n",
    "\n",
    "5. **Maximum (Max)**: The largest value in the dataset.\n",
    "\n",
    "6. **Range**: The difference between the maximum and minimum values.  \n",
    "   $$\n",
    "   \\text{Range} = \\text{Max} - \\text{Min}\n",
    "   $$\n",
    "\n",
    "7. **Quartiles**: These divide the dataset into four equal parts:\n",
    "   - **Q1 (First Quartile)**: The median of the lower half (25th percentile).\n",
    "   - **Q2 (Second Quartile)**: The median of the dataset (50th percentile).\n",
    "   - **Q3 (Third Quartile)**: The median of the upper half (75th percentile).\n",
    "\n",
    "8. **Interquartile Range (IQR)**: Measures the spread of the middle 50% of the data.  \n",
    "    $$\n",
    "   \\text{IQR} = Q3 - Q1\n",
    "    $$\n",
    "   The IQR helps identify outliers in a dataset"
   ]
  },
  {
   "cell_type": "code",
   "execution_count": 13,
   "id": "12e90bfc-0481-4468-9926-b68b3ef1a578",
   "metadata": {},
   "outputs": [
    {
     "name": "stdout",
     "output_type": "stream",
     "text": [
      "Mean: 16.9\n",
      "Median: 16.5\n",
      "Mode: [15]\n",
      "Min: 10\n",
      "Max: 25\n",
      "Range: 15\n",
      "Q1 (25th percentile): 14.25\n",
      "Q2 (50th percentile / Median): 16.5\n",
      "Q3 (75th percentile): 19.5\n",
      "Interquartile Range (IQR): 5.25\n"
     ]
    }
   ],
   "source": [
    "import numpy as np\n",
    "from scipy import stats\n",
    "\n",
    "# Sample dataset\n",
    "data = [12, 15, 14, 10, 18, 22, 20, 15, 18, 25]\n",
    "\n",
    "# Mean\n",
    "mean_value = np.mean(data)\n",
    "\n",
    "# Median\n",
    "median_value = np.median(data)\n",
    "\n",
    "# Mode (Fix for SciPy version compatibility)\n",
    "mode_result = stats.mode(data, keepdims=True)  # Ensure output is an array\n",
    "mode_value = mode_result.mode if hasattr(mode_result, 'mode') else mode_result  # Handle scalar case\n",
    "\n",
    "# Min and Max\n",
    "min_value = np.min(data)\n",
    "max_value = np.max(data)\n",
    "\n",
    "# Range\n",
    "range_value = max_value - min_value\n",
    "\n",
    "# Quartiles\n",
    "q1 = np.percentile(data, 25)  # First quartile (Q1)\n",
    "q2 = np.percentile(data, 50)  # Second quartile (Q2 or median)\n",
    "q3 = np.percentile(data, 75)  # Third quartile (Q3)\n",
    "\n",
    "# Interquartile Range (IQR)\n",
    "iqr = q3 - q1\n",
    "\n",
    "# Display results\n",
    "print(f\"Mean: {mean_value}\")\n",
    "print(f\"Median: {median_value}\")\n",
    "print(f\"Mode: {mode_value}\")\n",
    "print(f\"Min: {min_value}\")\n",
    "print(f\"Max: {max_value}\")\n",
    "print(f\"Range: {range_value}\")\n",
    "print(f\"Q1 (25th percentile): {q1}\")\n",
    "print(f\"Q2 (50th percentile / Median): {q2}\")\n",
    "print(f\"Q3 (75th percentile): {q3}\")\n",
    "print(f\"Interquartile Range (IQR): {iqr}\")\n"
   ]
  },
  {
   "cell_type": "code",
   "execution_count": null,
   "id": "e25e229e-dbcc-4aa5-8a13-0699aaee54c0",
   "metadata": {},
   "outputs": [],
   "source": []
  }
 ],
 "metadata": {
  "kernelspec": {
   "display_name": "Python [conda env:base] *",
   "language": "python",
   "name": "conda-base-py"
  },
  "language_info": {
   "codemirror_mode": {
    "name": "ipython",
    "version": 3
   },
   "file_extension": ".py",
   "mimetype": "text/x-python",
   "name": "python",
   "nbconvert_exporter": "python",
   "pygments_lexer": "ipython3",
   "version": "3.12.7"
  }
 },
 "nbformat": 4,
 "nbformat_minor": 5
}
