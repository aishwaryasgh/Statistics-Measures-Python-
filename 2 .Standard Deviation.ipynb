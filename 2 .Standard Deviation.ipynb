{
 "cells": [
  {
   "cell_type": "markdown",
   "id": "64c3d246-34e8-4a2a-b123-5678ece6e33d",
   "metadata": {},
   "source": [
    "### **Standard Deviation (σ or s)**  \n",
    "\n",
    "### Standard deviation measures the spread or dispersion of a dataset relative to its mean. \n",
    "### A **low** standard deviation means data points are close to the mean, \n",
    "### while a **high** standard deviation indicates data points are more spread out.\n",
    "### **Formula for Standard Deviation**  \n",
    "\n",
    "For a **population (σ):**  \n",
    "$$\n",
    "σ = \\sqrt{\\frac{\\sum (x_i - \\mu)^2}{N}}\n",
    "$$\n",
    "For a **sample (s):**  \n",
    "$$\n",
    "s = \\sqrt{\\frac{\\sum (x_i - \\bar{x})^2}{n-1}}\n",
    "$$\n",
    "\n",
    "Where:  \n",
    "$$ x_i$$= individual data points, \n",
    "$$\\mu$$= population mean  ,\n",
    "$$ \\bar{x} $$= sample mean  \n",
    "$$N $$= total number of values in the population  \n",
    "$$n$$= total number of values in the sample  \n",
    "### **Steps to Calculate Standard Deviation**\n",
    "1. **Find the Mean (Average)**  \n",
    "   $$\n",
    "   \\text{Mean} = \\frac{\\sum x_i}{N} \\text{ (for population) or } \\frac{\\sum x_i}{n} \\text{ (for sample)}\n",
    "   $$\n",
    "2. **Find the Squared Differences from the Mean**  \n",
    "   $$\n",
    "   (x_i - \\mu)^2 \\text{ or } (x_i - \\bar{x})^2\n",
    "   $$\n",
    "3. **Find the Average of These Squared Differences**  \n",
    "   - For a population: divide by \\( N \\)  \n",
    "   - For a sample: divide by \\( n-1 \\)  \n",
    "4. **Take the Square Root**  \n",
    "   - This gives the standard deviation.\n",
    "\n",
    "\n",
    "### **Example Calculation**\n",
    "**Dataset:** [4, 8, 6, 10]  \n",
    "1. **Mean**: $$ \\( \\bar{x} = \\frac{4+8+6+10}{4} = 7 \\)  $$ \n",
    "2. **Squared Differences**:  \n",
    "    \n",
    "    - \\( (4-7)^2 = 9 \\)   \n",
    "    - \\( (8-7)^2 = 1 \\) \n",
    "    - \\( (6-7)^2 = 1 \\) \n",
    "    - \\( (10-7)^2 = 9 \\)\n",
    "4. **Variance** (sample):  \n",
    "   $$\n",
    "   s^2 = \\frac{9+1+1+9}{4-1} = \\frac{20}{3} \\approx 6.67\n",
    "   $$\n",
    "   \n",
    "5. **Standard Deviation**:  \n",
    "   $$\n",
    "   s = \\sqrt{6.67} \\approx 2.58\n",
    "   $$\n",
    "\n",
    "### **Key Insights**\n",
    "- A smaller standard deviation means data points are closer to the mean.  \n",
    "- A larger standard deviation means more variability in the data.  \n",
    "- Standard deviation is often used in statistics, finance, and machine learning to understand data distribution."
   ]
  },
  {
   "cell_type": "code",
   "execution_count": 3,
   "id": "feedbbc6-00ea-418d-88af-6a1cbc23fb7f",
   "metadata": {},
   "outputs": [
    {
     "name": "stdout",
     "output_type": "stream",
     "text": [
      "Standard Deviation: 2.58\n"
     ]
    }
   ],
   "source": [
    "import math\n",
    "\n",
    "def standard_deviation(data):\n",
    "    n = len(data)\n",
    "    mean = sum(data) / n\n",
    "    variance = sum((x - mean) ** 2 for x in data) / (n - 1)  # Sample variance\n",
    "    std_dev = math.sqrt(variance)\n",
    "    return std_dev\n",
    "\n",
    "# Example dataset\n",
    "data = [4, 8, 6, 10]\n",
    "\n",
    "# Calculate standard deviation\n",
    "std_dev = standard_deviation(data)\n",
    "print(f\"Standard Deviation: {std_dev:.2f}\")\n"
   ]
  },
  {
   "cell_type": "code",
   "execution_count": 19,
   "id": "2ab81e20-6ec6-406e-b25c-48f7516bb881",
   "metadata": {},
   "outputs": [
    {
     "name": "stdout",
     "output_type": "stream",
     "text": [
      "Population Standard Deviation: 2.24\n",
      "Sample Standard Deviation: 2.58\n"
     ]
    }
   ],
   "source": [
    "import numpy as np\n",
    "\n",
    "data = [4, 8, 6, 10]\n",
    "\n",
    "# Population standard deviation\n",
    "pop_std = np.std(data, ddof=0)\n",
    "\n",
    "# Sample standard deviation\n",
    "sample_std = np.std(data, ddof=1)\n",
    "\n",
    "print(f\"Population Standard Deviation: {pop_std:.2f}\")\n",
    "print(f\"Sample Standard Deviation: {sample_std:.2f}\")\n"
   ]
  },
  {
   "cell_type": "code",
   "execution_count": null,
   "id": "3821b461-4497-44c9-a9b7-f2a58db3c99c",
   "metadata": {},
   "outputs": [],
   "source": []
  }
 ],
 "metadata": {
  "kernelspec": {
   "display_name": "Python [conda env:base] *",
   "language": "python",
   "name": "conda-base-py"
  },
  "language_info": {
   "codemirror_mode": {
    "name": "ipython",
    "version": 3
   },
   "file_extension": ".py",
   "mimetype": "text/x-python",
   "name": "python",
   "nbconvert_exporter": "python",
   "pygments_lexer": "ipython3",
   "version": "3.12.7"
  }
 },
 "nbformat": 4,
 "nbformat_minor": 5
}
