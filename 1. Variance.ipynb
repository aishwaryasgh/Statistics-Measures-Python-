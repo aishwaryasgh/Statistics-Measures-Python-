{
 "cells": [
  {
   "cell_type": "markdown",
   "id": "079b66bc-ef84-43d6-a9e3-9f8ccd5b5f73",
   "metadata": {},
   "source": [
    "## Variance is a statistical measure that quantifies the spread or dispersion of a set of data points.\n",
    "## It tells us how much the values in a dataset deviate from the mean (average) of the dataset.\n",
    "### **Formula for Variance**\n",
    "For a dataset with \\( n \\) values:  \n",
    "1. **Population Variance (\\(\\sigma^2\\))**:  \n",
    "   $$\n",
    "   \\sigma^2 = \\frac{\\sum (x_i - \\mu)^2}{n}\n",
    "   $$\n",
    "   where:\n",
    "   - \\( x_i \\) = each data point  \n",
    "   - \\( \\mu \\) = population mean  \n",
    "   - \\( n \\)  = total number of values\n",
    "3. **Sample Variance (\\(s^2\\))**:  \n",
    "   $$\n",
    "   s^2 = \\frac{\\sum (x_i - \\bar{x})^2}{n - 1}\n",
    "   $$\n",
    "   where:\n",
    "   - \\( \\bar{x} \\) = sample mean  \n",
    "   - \\( n - 1 \\) (Bessel’s correction) is used to avoid bias in estimating the population variance from a sample.\n",
    "\n",
    "### **Interpretation**\n",
    "- **Low variance** → Data points are close to the mean (less spread).\n",
    "- **High variance** → Data points are more spread out from the mean.\n"
   ]
  },
  {
   "cell_type": "code",
   "execution_count": 29,
   "id": "7f211081-6f6a-4995-ac38-39bd175f5f94",
   "metadata": {},
   "outputs": [
    {
     "name": "stdout",
     "output_type": "stream",
     "text": [
      "Population Variance: 24.0\n",
      "Sample Variance: 27.428571428571427\n"
     ]
    }
   ],
   "source": [
    "import numpy as np\n",
    "\n",
    "# Define dataset\n",
    "data = [10, 12, 23, 23, 16, 23, 21, 16]\n",
    "\n",
    "# Calculate population variance\n",
    "population_variance = np.var(data)\n",
    "\n",
    "# Calculate sample variance\n",
    "sample_variance = np.var(data, ddof=1)  # ddof=1 applies Bessel's correction\n",
    "\n",
    "# Display results\n",
    "print(f\"Population Variance: {population_variance}\")\n",
    "print(f\"Sample Variance: {sample_variance}\")\n",
    "\n"
   ]
  },
  {
   "cell_type": "markdown",
   "id": "8553ca90-e865-4c6d-b4b5-ac0593b0f054",
   "metadata": {},
   "source": [
    "## Explanation\n",
    "- np.var(data): Computes the population variance.\n",
    "- np.var(data, ddof=1): Computes the sample variance (Bessel’s correction applied with ddof=1).\n",
    "- ddof stands for \"Delta Degrees of Freedom\" and helps adjust the divisor when calculating sample variance."
   ]
  },
  {
   "cell_type": "code",
   "execution_count": null,
   "id": "bae2f1c9-73cf-438b-8106-61ddc5fb5984",
   "metadata": {},
   "outputs": [],
   "source": []
  }
 ],
 "metadata": {
  "kernelspec": {
   "display_name": "Python [conda env:base] *",
   "language": "python",
   "name": "conda-base-py"
  },
  "language_info": {
   "codemirror_mode": {
    "name": "ipython",
    "version": 3
   },
   "file_extension": ".py",
   "mimetype": "text/x-python",
   "name": "python",
   "nbconvert_exporter": "python",
   "pygments_lexer": "ipython3",
   "version": "3.12.7"
  }
 },
 "nbformat": 4,
 "nbformat_minor": 5
}
