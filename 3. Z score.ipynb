{
 "cells": [
  {
   "cell_type": "markdown",
   "id": "8f1d3cc0-ba9a-4ded-a737-6fab6798e87c",
   "metadata": {},
   "source": [
    "### The **Z-score**, also known as the **standard score**,\n",
    "### measures how many standard deviations a data point is from the mean of a dataset.\n",
    "### It helps in understanding whether a value is typical or unusual compared to the rest of the data.\n",
    "\n",
    "### **Formula for Z-score**:\n",
    "$$\n",
    "Z = \\frac{X - \\mu}{\\sigma}\n",
    "$$\n",
    "Where:\n",
    "- \\( Z \\) = Z-score\n",
    "- \\( X \\) = Data point\n",
    "- \\( \\mu \\) = Mean of the dataset\n",
    "- \\( \\sigma \\) = Standard deviation of the dataset\n",
    "\n",
    "### **Interpretation**:\n",
    "- \\( Z = 0 \\) → The data point is exactly at the mean.\n",
    "- \\( Z > 0 \\) → The data point is above the mean.\n",
    "- \\( Z < 0 \\) → The data point is below the mean.\n",
    "- \\( |Z| > 2 \\) → The data point is significantly different from the mean (unusual).\n",
    "- \\( |Z| > 3 \\) → The data point is an extreme outlier.\n",
    "\n",
    "### **Uses of Z-score**:\n",
    "1. **Identifying Outliers**: Helps detect values that are too far from the mean.\n",
    "2. **Standardizing Data**: Converts different datasets into a common scale for comparison.\n",
    "3. **Probability & Normal Distribution**: Used in statistics to find probabilities in a standard normal distribution.\n",
    "4. **Machine Learning & Data Science**: Helps in feature scaling and anomaly detection."
   ]
  },
  {
   "cell_type": "code",
   "execution_count": 5,
   "id": "bc5b9408-c132-4c4f-a370-ffa115e8c2bf",
   "metadata": {},
   "outputs": [
    {
     "name": "stdout",
     "output_type": "stream",
     "text": [
      "Data point: 10, Z-score: -1.57\n",
      "Data point: 12, Z-score: -1.22\n",
      "Data point: 14, Z-score: -0.87\n",
      "Data point: 16, Z-score: -0.52\n",
      "Data point: 18, Z-score: -0.17\n",
      "Data point: 20, Z-score: 0.17\n",
      "Data point: 22, Z-score: 0.52\n",
      "Data point: 24, Z-score: 0.87\n",
      "Data point: 26, Z-score: 1.22\n",
      "Data point: 28, Z-score: 1.57\n"
     ]
    }
   ],
   "source": [
    "import numpy as np\n",
    "\n",
    "# Function to calculate Z-score\n",
    "def calculate_z_scores(data):\n",
    "    mean = np.mean(data)\n",
    "    std_dev = np.std(data)\n",
    "    z_scores = [(x - mean) / std_dev for x in data]\n",
    "    return z_scores\n",
    "\n",
    "# Sample dataset\n",
    "data = [10, 12, 14, 16, 18, 20, 22, 24, 26, 28]\n",
    "\n",
    "# Compute Z-scores\n",
    "z_scores = calculate_z_scores(data)\n",
    "\n",
    "# Display results\n",
    "for i, z in enumerate(z_scores):\n",
    "    print(f\"Data point: {data[i]}, Z-score: {z:.2f}\")\n"
   ]
  },
  {
   "cell_type": "code",
   "execution_count": 7,
   "id": "92cf4103-60ab-4498-b3c3-64b928362682",
   "metadata": {},
   "outputs": [
    {
     "name": "stdout",
     "output_type": "stream",
     "text": [
      "Z-scores: [-1.5666989  -1.21854359 -0.87038828 -0.52223297 -0.17407766  0.17407766\n",
      "  0.52223297  0.87038828  1.21854359  1.5666989 ]\n"
     ]
    }
   ],
   "source": [
    "from scipy.stats import zscore\n",
    "\n",
    "data = [10, 12, 14, 16, 18, 20, 22, 24, 26, 28]\n",
    "\n",
    "# Compute Z-scores\n",
    "z_scores = zscore(data)\n",
    "\n",
    "print(\"Z-scores:\", z_scores)\n"
   ]
  },
  {
   "cell_type": "code",
   "execution_count": 9,
   "id": "67800604-24ed-4ded-a0af-db1e0baa1116",
   "metadata": {},
   "outputs": [
    {
     "name": "stdout",
     "output_type": "stream",
     "text": [
      "Z-scores: [-1.5666989  -1.21854359 -0.87038828 -0.52223297 -0.17407766  0.17407766\n",
      "  0.52223297  0.87038828  1.21854359  1.5666989 ]\n"
     ]
    }
   ],
   "source": [
    "import numpy as np\n",
    "\n",
    "data = [10, 12, 14, 16, 18, 20, 22, 24, 26, 28]\n",
    "\n",
    "# Compute Z-scores\n",
    "z_scores = (data - np.mean(data)) / np.std(data)\n",
    "\n",
    "print(\"Z-scores:\", z_scores)\n"
   ]
  },
  {
   "cell_type": "markdown",
   "id": "101e7584-5f70-4f2d-9f8f-927def162249",
   "metadata": {},
   "source": [
    "## Which One to Use?\n",
    "## Use SciPy (zscore) → More readable and handles different cases (e.g., NaN values).\n",
    "## Use NumPy → If you want to manually compute Z-scores."
   ]
  },
  {
   "cell_type": "code",
   "execution_count": null,
   "id": "5b7d3ef7-c5e8-447f-be93-04247c0bd449",
   "metadata": {},
   "outputs": [],
   "source": []
  }
 ],
 "metadata": {
  "kernelspec": {
   "display_name": "Python [conda env:base] *",
   "language": "python",
   "name": "conda-base-py"
  },
  "language_info": {
   "codemirror_mode": {
    "name": "ipython",
    "version": 3
   },
   "file_extension": ".py",
   "mimetype": "text/x-python",
   "name": "python",
   "nbconvert_exporter": "python",
   "pygments_lexer": "ipython3",
   "version": "3.12.7"
  }
 },
 "nbformat": 4,
 "nbformat_minor": 5
}
